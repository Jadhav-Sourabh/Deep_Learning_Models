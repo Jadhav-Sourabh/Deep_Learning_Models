{
 "cells": [
  {
   "cell_type": "markdown",
   "metadata": {},
   "source": [
    "# Iris Dataset - Deep Learning Model"
   ]
  },
  {
   "cell_type": "code",
   "execution_count": 1,
   "metadata": {},
   "outputs": [],
   "source": [
    "import pandas as pd\n",
    "import os\n",
    "import numpy as np\n",
    "from sklearn.model_selection import train_test_split\n",
    "from sklearn.preprocessing import StandardScaler\n",
    "import tensorflow as tf"
   ]
  },
  {
   "cell_type": "code",
   "execution_count": 2,
   "metadata": {},
   "outputs": [
    {
     "name": "stdout",
     "output_type": "stream",
     "text": [
      "\n",
      "Loaded Data :\n",
      "=====================================================================\n",
      "   Sepal length  Sepal width  Petal length  Petal width      Species\n",
      "0           5.1          3.5           1.4          0.2  Iris-setosa\n",
      "1           4.9          3.0           1.4          0.2  Iris-setosa\n",
      "2           4.7          3.2           1.3          0.2  Iris-setosa\n",
      "3           4.6          3.1           1.5          0.2  Iris-setosa\n",
      "4           5.0          3.6           1.4          0.2  Iris-setosa\n"
     ]
    }
   ],
   "source": [
    "# Load data and review content\n",
    "iris_data = pd.read_csv(\"D:\\MTech\\Machine Learning for AEVs\\Practice\\iris.csv\")\n",
    "print(\"\\nLoaded Data :\\n=====================================================================\")\n",
    "print(iris_data.head())"
   ]
  },
  {
   "cell_type": "markdown",
   "metadata": {},
   "source": [
    "# Input preprocessing"
   ]
  },
  {
   "cell_type": "code",
   "execution_count": 3,
   "metadata": {},
   "outputs": [],
   "source": [
    "# Using a label encoder to convert string to numeric values\n",
    "# For the target variable\n",
    "from sklearn import preprocessing\n",
    "label_encoder = preprocessing.LabelEncoder()\n",
    "iris_data['Species'] = label_encoder.fit_transform(iris_data['Species'])"
   ]
  },
  {
   "cell_type": "code",
   "execution_count": 4,
   "metadata": {},
   "outputs": [],
   "source": [
    "# Convert input to numpy array\n",
    "np_iris = iris_data.to_numpy()"
   ]
  },
  {
   "cell_type": "code",
   "execution_count": 5,
   "metadata": {},
   "outputs": [
    {
     "name": "stdout",
     "output_type": "stream",
     "text": [
      "\n",
      "Features before scaling: \n",
      "================================================================\n",
      "[[5.1 3.5 1.4 0.2]\n",
      " [4.9 3.  1.4 0.2]\n",
      " [4.7 3.2 1.3 0.2]\n",
      " [4.6 3.1 1.5 0.2]\n",
      " [5.  3.6 1.4 0.2]]\n",
      "\n",
      "Target before scaling: \n",
      "==================================================================\n",
      "[0. 0. 0. 0. 0.]\n"
     ]
    }
   ],
   "source": [
    "# Seperate feature and target variables\n",
    "X_data = np_iris[:,0:4]\n",
    "Y_data = np_iris[:,4]\n",
    "\n",
    "print(\"\\nFeatures before scaling: \\n================================================================\")\n",
    "print(X_data[:5, :])\n",
    "print(\"\\nTarget before scaling: \\n==================================================================\")\n",
    "print(Y_data[:5])"
   ]
  },
  {
   "cell_type": "code",
   "execution_count": 6,
   "metadata": {},
   "outputs": [
    {
     "name": "stdout",
     "output_type": "stream",
     "text": [
      "\n",
      "Features after scaling: \n",
      "================================================================\n",
      "[[-0.90068117  1.03205722 -1.3412724  -1.31297673]\n",
      " [-1.14301691 -0.1249576  -1.3412724  -1.31297673]\n",
      " [-1.38535265  0.33784833 -1.39813811 -1.31297673]\n",
      " [-1.50652052  0.10644536 -1.2844067  -1.31297673]\n",
      " [-1.02184904  1.26346019 -1.3412724  -1.31297673]]\n",
      "\n",
      "Target after scaling: \n",
      "==================================================================\n",
      "[[1. 0. 0.]\n",
      " [1. 0. 0.]\n",
      " [1. 0. 0.]\n",
      " [1. 0. 0.]\n",
      " [1. 0. 0.]]\n"
     ]
    }
   ],
   "source": [
    "# Create a scalar model that is fit on the input data\n",
    "scaler = StandardScaler().fit(X_data)\n",
    "\n",
    "# Scale the numeric features variables\n",
    "X_data = scaler.transform(X_data)\n",
    "\n",
    "# Convert the target variable as a one-hot encoding array\n",
    "Y_data = tf.keras.utils.to_categorical(Y_data,3)\n",
    "\n",
    "print(\"\\nFeatures after scaling: \\n================================================================\")\n",
    "print(X_data[:5, :])\n",
    "print(\"\\nTarget after scaling: \\n==================================================================\")\n",
    "print(Y_data[:5, :])"
   ]
  },
  {
   "cell_type": "code",
   "execution_count": 7,
   "metadata": {},
   "outputs": [
    {
     "name": "stdout",
     "output_type": "stream",
     "text": [
      "\n",
      "Train Test Dimensions:\n",
      "======================================================================\n",
      "(135, 4) (135, 3) (15, 4) (15, 3)\n"
     ]
    }
   ],
   "source": [
    "# Split training and test data\n",
    "X_train, X_test, Y_train, Y_test = train_test_split(X_data, Y_data, test_size=0.10)\n",
    "print(\"\\nTrain Test Dimensions:\\n======================================================================\")\n",
    "print(X_train.shape, Y_train.shape, X_test.shape, Y_test.shape)"
   ]
  },
  {
   "cell_type": "markdown",
   "metadata": {},
   "source": [
    "# Creating a deep learning model"
   ]
  },
  {
   "cell_type": "code",
   "execution_count": 8,
   "metadata": {},
   "outputs": [
    {
     "name": "stdout",
     "output_type": "stream",
     "text": [
      "Model: \"sequential\"\n",
      "_________________________________________________________________\n",
      " Layer (type)                Output Shape              Param #   \n",
      "=================================================================\n",
      " hidden_layer_1 (Dense)      (None, 128)               640       \n",
      "                                                                 \n",
      " hidden_layer_2 (Dense)      (None, 128)               16512     \n",
      "                                                                 \n",
      " output_layer (Dense)        (None, 3)                 387       \n",
      "                                                                 \n",
      "=================================================================\n",
      "Total params: 17,539\n",
      "Trainable params: 17,539\n",
      "Non-trainable params: 0\n",
      "_________________________________________________________________\n"
     ]
    }
   ],
   "source": [
    "from tensorflow import keras\n",
    "\n",
    "# Number of classes in the target variables\n",
    "NB_CLASSES = 3\n",
    "\n",
    "# Create a sequential model in keras\n",
    "model = tf.keras.models.Sequential()\n",
    "\n",
    "# Add the first hidden layer\n",
    "model.add(keras.layers.Dense(\n",
    "    128,                                                   # Number of nodes = 128 * 5 = 640, 5th is bias\n",
    "    input_shape=(4,),                                      # Number of input variables\n",
    "    name='hidden_layer_1',                                 # Logical name\n",
    "    activation='relu'                                      # Activation function\n",
    "))                           \n",
    "\n",
    "# Add a second hidden layer\n",
    "model.add(keras.layers.Dense(\n",
    "    128,\n",
    "    name='hidden_layer_2',\n",
    "    activation='relu'\n",
    "))\n",
    "\n",
    "# Add an output layer with softmax activation function\n",
    "model.add(keras.layers.Dense(\n",
    "    NB_CLASSES,\n",
    "    name='output_layer',\n",
    "    activation='softmax'\n",
    "))\n",
    "\n",
    "# Compile the model with loss and metrics\n",
    "model.compile(\n",
    "    loss='categorical_crossentropy',\n",
    "    metrics=['accuracy']\n",
    ")\n",
    "\n",
    "# Print the model meta-data\n",
    "model.summary()"
   ]
  },
  {
   "cell_type": "markdown",
   "metadata": {},
   "source": [
    "# Training and evaluation"
   ]
  },
  {
   "cell_type": "code",
   "execution_count": 9,
   "metadata": {},
   "outputs": [
    {
     "name": "stdout",
     "output_type": "stream",
     "text": [
      "\n",
      "Training Progress:\n",
      "=====================================================================================================================================\n",
      "Epoch 1/10\n",
      "7/7 [==============================] - 1s 53ms/step - loss: 0.8447 - accuracy: 0.6852 - val_loss: 0.6564 - val_accuracy: 0.7407\n",
      "Epoch 2/10\n",
      "7/7 [==============================] - 0s 9ms/step - loss: 0.5143 - accuracy: 0.8796 - val_loss: 0.5364 - val_accuracy: 0.7407\n",
      "Epoch 3/10\n",
      "7/7 [==============================] - 0s 9ms/step - loss: 0.3945 - accuracy: 0.8796 - val_loss: 0.4891 - val_accuracy: 0.7407\n",
      "Epoch 4/10\n",
      "7/7 [==============================] - 0s 9ms/step - loss: 0.3279 - accuracy: 0.8704 - val_loss: 0.4783 - val_accuracy: 0.7407\n",
      "Epoch 5/10\n",
      "7/7 [==============================] - 0s 10ms/step - loss: 0.2908 - accuracy: 0.8889 - val_loss: 0.4605 - val_accuracy: 0.7407\n",
      "Epoch 6/10\n",
      "7/7 [==============================] - 0s 9ms/step - loss: 0.2605 - accuracy: 0.8796 - val_loss: 0.4687 - val_accuracy: 0.8148\n",
      "Epoch 7/10\n",
      "7/7 [==============================] - 0s 10ms/step - loss: 0.2384 - accuracy: 0.9074 - val_loss: 0.4365 - val_accuracy: 0.7407\n",
      "Epoch 8/10\n",
      "7/7 [==============================] - 0s 9ms/step - loss: 0.2180 - accuracy: 0.9167 - val_loss: 0.4152 - val_accuracy: 0.7407\n",
      "Epoch 9/10\n",
      "7/7 [==============================] - 0s 10ms/step - loss: 0.2025 - accuracy: 0.8889 - val_loss: 0.4204 - val_accuracy: 0.7778\n",
      "Epoch 10/10\n",
      "7/7 [==============================] - 0s 9ms/step - loss: 0.1832 - accuracy: 0.9167 - val_loss: 0.4239 - val_accuracy: 0.8889\n",
      "\n",
      "Accuracy during Training: \n",
      "=====================================================================================================================================\n"
     ]
    },
    {
     "data": {
      "image/png": "[encoded data removed]",
      "text/plain": [
       "<Figure size 576x360 with 1 Axes>"
      ]
     },
     "metadata": {
      "needs_background": "light"
     },
     "output_type": "display_data"
    },
    {
     "name": "stdout",
     "output_type": "stream",
     "text": [
      "\n",
      "Evaluation against Test Dataset: \n",
      "===================================================================================================================\n",
      "1/1 [==============================] - 0s 33ms/step - loss: 0.2272 - accuracy: 0.9333\n"
     ]
    },
    {
     "data": {
      "text/plain": [
       "[0.22715610265731812, 0.9333333373069763]"
      ]
     },
     "execution_count": 9,
     "metadata": {},
     "output_type": "execute_result"
    }
   ],
   "source": [
    "# Make it progress so we can see the progress\n",
    "VERBOSE=1\n",
    "\n",
    "# Setup Hyper Parameters for training\n",
    "\n",
    "# Set Batch size = 2 power n range\n",
    "BATCH_SIZE=16                                 \n",
    "# Set number of epochs\n",
    "EPOCHS=10\n",
    "# Set validation split, 20% of training data will be used for validation\n",
    "# after each epoch\n",
    "VALIDATION_SPLIT=0.2\n",
    "\n",
    "print(\"\\nTraining Progress:\\n=====================================================================================================================================\")\n",
    "\n",
    "# Fit the model, this will perform the entire training cycle, including\n",
    "# Forward propagation, loss computation, backward propagation and gradient descent\n",
    "# Execute for the specified batch sizes and epoch\n",
    "# Perform validation after each epoch\n",
    "history = model.fit(\n",
    "    X_train,\n",
    "    Y_train,\n",
    "    batch_size=BATCH_SIZE,\n",
    "    epochs=EPOCHS,\n",
    "    verbose=VERBOSE,\n",
    "    validation_split= VALIDATION_SPLIT\n",
    ")\n",
    "\n",
    "print(\"\\nAccuracy during Training: \\n=====================================================================================================================================\")\n",
    "import matplotlib.pyplot as plt\n",
    "\n",
    "# Plot the accuracy of the model after each epoch\n",
    "pd.DataFrame(history.history)['accuracy'].plot(figsize=(8,5))\n",
    "plt.title(\"Accuracy improvements with Epoch\")\n",
    "plt.show()\n",
    "\n",
    "# Evaluate the model against test dataset and print results\n",
    "print(\"\\nEvaluation against Test Dataset: \\n===================================================================================================================\")\n",
    "model.evaluate(X_test, Y_test)"
   ]
  },
  {
   "cell_type": "markdown",
   "metadata": {},
   "source": [
    "# Saving and loading model"
   ]
  },
  {
   "cell_type": "code",
   "execution_count": 10,
   "metadata": {},
   "outputs": [
    {
     "name": "stdout",
     "output_type": "stream",
     "text": [
      "INFO:tensorflow:Assets written to: iris_save\\assets\n",
      "Model: \"sequential\"\n",
      "_________________________________________________________________\n",
      " Layer (type)                Output Shape              Param #   \n",
      "=================================================================\n",
      " hidden_layer_1 (Dense)      (None, 128)               640       \n",
      "                                                                 \n",
      " hidden_layer_2 (Dense)      (None, 128)               16512     \n",
      "                                                                 \n",
      " output_layer (Dense)        (None, 3)                 387       \n",
      "                                                                 \n",
      "=================================================================\n",
      "Total params: 17,539\n",
      "Trainable params: 17,539\n",
      "Non-trainable params: 0\n",
      "_________________________________________________________________\n"
     ]
    }
   ],
   "source": [
    "# Saving a model\n",
    "model.save(\"iris_save\")\n",
    "\n",
    "# Loading a model\n",
    "loaded_model = keras.models.load_model(\"iris_save\")\n",
    "\n",
    "# Print model summary\n",
    "loaded_model.summary()"
   ]
  },
  {
   "cell_type": "markdown",
   "metadata": {},
   "source": [
    "# Prediction"
   ]
  },
  {
   "cell_type": "code",
   "execution_count": 12,
   "metadata": {},
   "outputs": [
    {
     "name": "stdout",
     "output_type": "stream",
     "text": [
      "1/1 [==============================] - 5s 5s/step\n",
      "Raw Prediction Output (Probabilities): [[0.03536505 0.63477474 0.32986018]]\n",
      "Prediction is  ['Iris-versicolor']\n"
     ]
    }
   ],
   "source": [
    "# Raw prediction data\n",
    "prediction_input = [[6.6, 3. , 4.4, 1.4]]\n",
    "\n",
    "# Scale prediction data with the same scaling model\n",
    "scaled_input = scaler.transform(prediction_input)\n",
    "\n",
    "# Get raw prediction probabilities\n",
    "raw_prediction = model.predict(scaled_input)\n",
    "print(\"Raw Prediction Output (Probabilities):\", raw_prediction)\n",
    "\n",
    "# Find prediction\n",
    "prediction = np.argmax(raw_prediction)\n",
    "print(\"Prediction is \", label_encoder.inverse_transform([prediction]))"
   ]
  }
 ],
 "metadata": {
  "kernelspec": {
   "display_name": "Python 3.8.0 64-bit",
   "language": "python",
   "name": "python3"
  },
  "language_info": {
   "codemirror_mode": {
    "name": "ipython",
    "version": 3
   },
   "file_extension": ".py",
   "mimetype": "text/x-python",
   "name": "python",
   "nbconvert_exporter": "python",
   "pygments_lexer": "ipython3",
   "version": "3.8.0"
  },
  "orig_nbformat": 4,
  "vscode": {
   "interpreter": {
    "hash": "c7dc68dd3b675218bd22100cb9088a12c0c6c26c4d44955d08766dbfdfa87d2c"
   }
  }
 },
 "nbformat": 4,
 "nbformat_minor": 2
}
